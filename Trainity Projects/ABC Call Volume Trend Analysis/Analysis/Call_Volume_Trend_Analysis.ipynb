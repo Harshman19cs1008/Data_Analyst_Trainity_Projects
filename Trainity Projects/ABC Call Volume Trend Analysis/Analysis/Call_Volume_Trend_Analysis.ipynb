{
 "cells": [
  {
   "cell_type": "raw",
   "id": "2730e8cd",
   "metadata": {},
   "source": [
    "Steps Performed:\n",
    "    step1: Importing Necessary Libaries\n",
    "    step2: Loading csv file to DataFrame\n",
    "    step3:Data Cleaning\n",
    "         1)check dtypes\n",
    "         2)drop Duplicates\n",
    "         3)check null %\n",
    "    step4) EDA and Question's Answer"
   ]
  },
  {
   "cell_type": "markdown",
   "id": "1eae1de6",
   "metadata": {},
   "source": [
    "1.IMPORT NECESSARY  LIBARIES"
   ]
  },
  {
   "cell_type": "code",
   "execution_count": 1,
   "id": "d25aa956",
   "metadata": {},
   "outputs": [],
   "source": [
    "import pandas as pd\n",
    "import numpy as np\n",
    "import matplotlib.pyplot as plt\n",
    "import seaborn as sns\n",
    "%matplotlib inline"
   ]
  },
  {
   "cell_type": "markdown",
   "id": "b2324249",
   "metadata": {},
   "source": [
    "2.Loading Csv file to DataFrame"
   ]
  },
  {
   "cell_type": "code",
   "execution_count": 2,
   "id": "6be1bacb",
   "metadata": {},
   "outputs": [
    {
     "name": "stdout",
     "output_type": "stream",
     "text": [
      "Wall time: 210 ms\n"
     ]
    }
   ],
   "source": [
    "%%time\n",
    "df=pd.read_csv(\"Analysis/Call_Volume_Trend_Analysis.csv\")"
   ]
  },
  {
   "cell_type": "code",
   "execution_count": 3,
   "id": "a5d3297c",
   "metadata": {},
   "outputs": [
    {
     "data": {
      "text/html": [
       "<div>\n",
       "<style scoped>\n",
       "    .dataframe tbody tr th:only-of-type {\n",
       "        vertical-align: middle;\n",
       "    }\n",
       "\n",
       "    .dataframe tbody tr th {\n",
       "        vertical-align: top;\n",
       "    }\n",
       "\n",
       "    .dataframe thead th {\n",
       "        text-align: right;\n",
       "    }\n",
       "</style>\n",
       "<table border=\"1\" class=\"dataframe\">\n",
       "  <thead>\n",
       "    <tr style=\"text-align: right;\">\n",
       "      <th></th>\n",
       "      <th>Agent_Name</th>\n",
       "      <th>Agent_ID</th>\n",
       "      <th>Customer_Phone_No</th>\n",
       "      <th>Queue_Time(Secs)</th>\n",
       "      <th>Date_&amp;_Time</th>\n",
       "      <th>Time</th>\n",
       "      <th>Time_Bucket</th>\n",
       "      <th>Duration(hh:mm:ss)</th>\n",
       "      <th>Call_Seconds (s)</th>\n",
       "      <th>Call_Status</th>\n",
       "      <th>Wrapped _By</th>\n",
       "      <th>Ringing</th>\n",
       "      <th>IVR _Duration</th>\n",
       "    </tr>\n",
       "  </thead>\n",
       "  <tbody>\n",
       "    <tr>\n",
       "      <th>0</th>\n",
       "      <td>Executives 42</td>\n",
       "      <td>1000042.0</td>\n",
       "      <td>98502XXXXX</td>\n",
       "      <td>2</td>\n",
       "      <td>1/1/2022</td>\n",
       "      <td>9.0</td>\n",
       "      <td>9_10</td>\n",
       "      <td>0:01:36</td>\n",
       "      <td>96.0</td>\n",
       "      <td>answered</td>\n",
       "      <td>Agent</td>\n",
       "      <td>YES</td>\n",
       "      <td>0:00:16</td>\n",
       "    </tr>\n",
       "    <tr>\n",
       "      <th>1</th>\n",
       "      <td>Executives 4</td>\n",
       "      <td>1000004.0</td>\n",
       "      <td>80595XXXXX</td>\n",
       "      <td>0</td>\n",
       "      <td>1/1/2022</td>\n",
       "      <td>9.0</td>\n",
       "      <td>9_10</td>\n",
       "      <td>0:02:20</td>\n",
       "      <td>140.0</td>\n",
       "      <td>answered</td>\n",
       "      <td>Agent</td>\n",
       "      <td>YES</td>\n",
       "      <td>0:00:26</td>\n",
       "    </tr>\n",
       "    <tr>\n",
       "      <th>2</th>\n",
       "      <td>Executives 65</td>\n",
       "      <td>1000065.0</td>\n",
       "      <td>70202XXXXX</td>\n",
       "      <td>0</td>\n",
       "      <td>1/1/2022</td>\n",
       "      <td>9.0</td>\n",
       "      <td>9_10</td>\n",
       "      <td>0:01:25</td>\n",
       "      <td>85.0</td>\n",
       "      <td>answered</td>\n",
       "      <td>AutoWrapped</td>\n",
       "      <td>YES</td>\n",
       "      <td>0:00:16</td>\n",
       "    </tr>\n",
       "    <tr>\n",
       "      <th>3</th>\n",
       "      <td>Executives 55</td>\n",
       "      <td>1000055.0</td>\n",
       "      <td>96104XXXXX</td>\n",
       "      <td>1</td>\n",
       "      <td>1/1/2022</td>\n",
       "      <td>9.0</td>\n",
       "      <td>9_10</td>\n",
       "      <td>0:01:31</td>\n",
       "      <td>91.0</td>\n",
       "      <td>answered</td>\n",
       "      <td>Agent</td>\n",
       "      <td>YES</td>\n",
       "      <td>0:00:25</td>\n",
       "    </tr>\n",
       "    <tr>\n",
       "      <th>4</th>\n",
       "      <td>Executives 21</td>\n",
       "      <td>1000021.0</td>\n",
       "      <td>82001XXXXX</td>\n",
       "      <td>0</td>\n",
       "      <td>1/1/2022</td>\n",
       "      <td>9.0</td>\n",
       "      <td>9_10</td>\n",
       "      <td>0:02:45</td>\n",
       "      <td>165.0</td>\n",
       "      <td>answered</td>\n",
       "      <td>Agent</td>\n",
       "      <td>YES</td>\n",
       "      <td>0:00:23</td>\n",
       "    </tr>\n",
       "  </tbody>\n",
       "</table>\n",
       "</div>"
      ],
      "text/plain": [
       "      Agent_Name   Agent_ID Customer_Phone_No  Queue_Time(Secs) Date_&_Time  \\\n",
       "0  Executives 42  1000042.0        98502XXXXX                 2    1/1/2022   \n",
       "1   Executives 4  1000004.0        80595XXXXX                 0    1/1/2022   \n",
       "2  Executives 65  1000065.0        70202XXXXX                 0    1/1/2022   \n",
       "3  Executives 55  1000055.0        96104XXXXX                 1    1/1/2022   \n",
       "4  Executives 21  1000021.0        82001XXXXX                 0    1/1/2022   \n",
       "\n",
       "   Time Time_Bucket Duration(hh:mm:ss)  Call_Seconds (s) Call_Status  \\\n",
       "0   9.0        9_10            0:01:36              96.0    answered   \n",
       "1   9.0        9_10            0:02:20             140.0    answered   \n",
       "2   9.0        9_10            0:01:25              85.0    answered   \n",
       "3   9.0        9_10            0:01:31              91.0    answered   \n",
       "4   9.0        9_10            0:02:45             165.0    answered   \n",
       "\n",
       "   Wrapped _By Ringing IVR _Duration  \n",
       "0        Agent     YES       0:00:16  \n",
       "1        Agent     YES       0:00:26  \n",
       "2  AutoWrapped     YES       0:00:16  \n",
       "3        Agent     YES       0:00:25  \n",
       "4        Agent     YES       0:00:23  "
      ]
     },
     "execution_count": 3,
     "metadata": {},
     "output_type": "execute_result"
    }
   ],
   "source": [
    "df.head()"
   ]
  },
  {
   "cell_type": "markdown",
   "id": "d7e49703",
   "metadata": {},
   "source": [
    "3.Cleaning the dataframe⬇️⬇️⬇️⬇️"
   ]
  },
  {
   "cell_type": "code",
   "execution_count": 4,
   "id": "d7b2fb2d",
   "metadata": {},
   "outputs": [
    {
     "name": "stdout",
     "output_type": "stream",
     "text": [
      "<class 'pandas.core.frame.DataFrame'>\n",
      "RangeIndex: 117988 entries, 0 to 117987\n",
      "Data columns (total 13 columns):\n",
      " #   Column              Non-Null Count   Dtype  \n",
      "---  ------              --------------   -----  \n",
      " 0   Agent_Name          83790 non-null   object \n",
      " 1   Agent_ID            83790 non-null   float64\n",
      " 2   Customer_Phone_No   117988 non-null  object \n",
      " 3   Queue_Time(Secs)    117988 non-null  int64  \n",
      " 4   Date_&_Time         117988 non-null  object \n",
      " 5   Time                117988 non-null  float64\n",
      " 6   Time_Bucket         117988 non-null  object \n",
      " 7   Duration(hh:mm:ss)  117988 non-null  object \n",
      " 8   Call_Seconds (s)    117988 non-null  float64\n",
      " 9   Call_Status         117988 non-null  object \n",
      " 10  Wrapped _By         70111 non-null   object \n",
      " 11  Ringing             117988 non-null  object \n",
      " 12  IVR _Duration       117988 non-null  object \n",
      "dtypes: float64(3), int64(1), object(9)\n",
      "memory usage: 11.7+ MB\n"
     ]
    }
   ],
   "source": [
    "df.info()"
   ]
  },
  {
   "cell_type": "markdown",
   "id": "c283a806",
   "metadata": {},
   "source": [
    "drop Duplicates"
   ]
  },
  {
   "cell_type": "code",
   "execution_count": 5,
   "id": "ac39629e",
   "metadata": {},
   "outputs": [
    {
     "data": {
      "text/html": [
       "<div>\n",
       "<style scoped>\n",
       "    .dataframe tbody tr th:only-of-type {\n",
       "        vertical-align: middle;\n",
       "    }\n",
       "\n",
       "    .dataframe tbody tr th {\n",
       "        vertical-align: top;\n",
       "    }\n",
       "\n",
       "    .dataframe thead th {\n",
       "        text-align: right;\n",
       "    }\n",
       "</style>\n",
       "<table border=\"1\" class=\"dataframe\">\n",
       "  <thead>\n",
       "    <tr style=\"text-align: right;\">\n",
       "      <th></th>\n",
       "      <th>Agent_Name</th>\n",
       "      <th>Agent_ID</th>\n",
       "      <th>Customer_Phone_No</th>\n",
       "      <th>Queue_Time(Secs)</th>\n",
       "      <th>Date_&amp;_Time</th>\n",
       "      <th>Time</th>\n",
       "      <th>Time_Bucket</th>\n",
       "      <th>Duration(hh:mm:ss)</th>\n",
       "      <th>Call_Seconds (s)</th>\n",
       "      <th>Call_Status</th>\n",
       "      <th>Wrapped _By</th>\n",
       "      <th>Ringing</th>\n",
       "      <th>IVR _Duration</th>\n",
       "    </tr>\n",
       "  </thead>\n",
       "  <tbody>\n",
       "    <tr>\n",
       "      <th>42</th>\n",
       "      <td>NaN</td>\n",
       "      <td>NaN</td>\n",
       "      <td>87782XXXXX</td>\n",
       "      <td>16</td>\n",
       "      <td>1/1/2022</td>\n",
       "      <td>9.0</td>\n",
       "      <td>9_10</td>\n",
       "      <td>0:00:00</td>\n",
       "      <td>0.0</td>\n",
       "      <td>abandon</td>\n",
       "      <td>NaN</td>\n",
       "      <td>YES</td>\n",
       "      <td>0:00:16</td>\n",
       "    </tr>\n",
       "    <tr>\n",
       "      <th>312</th>\n",
       "      <td>NaN</td>\n",
       "      <td>NaN</td>\n",
       "      <td>96336XXXXX</td>\n",
       "      <td>120</td>\n",
       "      <td>1/1/2022</td>\n",
       "      <td>9.0</td>\n",
       "      <td>9_10</td>\n",
       "      <td>0:00:00</td>\n",
       "      <td>0.0</td>\n",
       "      <td>abandon</td>\n",
       "      <td>NaN</td>\n",
       "      <td>YES</td>\n",
       "      <td>0:00:14</td>\n",
       "    </tr>\n",
       "    <tr>\n",
       "      <th>4397</th>\n",
       "      <td>NaN</td>\n",
       "      <td>NaN</td>\n",
       "      <td>78499XXXXX</td>\n",
       "      <td>120</td>\n",
       "      <td>1/1/2022</td>\n",
       "      <td>20.0</td>\n",
       "      <td>20_21</td>\n",
       "      <td>0:00:00</td>\n",
       "      <td>0.0</td>\n",
       "      <td>abandon</td>\n",
       "      <td>NaN</td>\n",
       "      <td>YES</td>\n",
       "      <td>0:00:17</td>\n",
       "    </tr>\n",
       "    <tr>\n",
       "      <th>4436</th>\n",
       "      <td>NaN</td>\n",
       "      <td>NaN</td>\n",
       "      <td>93589XXXXX</td>\n",
       "      <td>120</td>\n",
       "      <td>1/1/2022</td>\n",
       "      <td>20.0</td>\n",
       "      <td>20_21</td>\n",
       "      <td>0:00:00</td>\n",
       "      <td>0.0</td>\n",
       "      <td>abandon</td>\n",
       "      <td>NaN</td>\n",
       "      <td>YES</td>\n",
       "      <td>0:00:14</td>\n",
       "    </tr>\n",
       "    <tr>\n",
       "      <th>4507</th>\n",
       "      <td>NaN</td>\n",
       "      <td>NaN</td>\n",
       "      <td>91779XXXXX</td>\n",
       "      <td>120</td>\n",
       "      <td>1/1/2022</td>\n",
       "      <td>20.0</td>\n",
       "      <td>20_21</td>\n",
       "      <td>0:00:00</td>\n",
       "      <td>0.0</td>\n",
       "      <td>abandon</td>\n",
       "      <td>NaN</td>\n",
       "      <td>YES</td>\n",
       "      <td>0:00:14</td>\n",
       "    </tr>\n",
       "    <tr>\n",
       "      <th>...</th>\n",
       "      <td>...</td>\n",
       "      <td>...</td>\n",
       "      <td>...</td>\n",
       "      <td>...</td>\n",
       "      <td>...</td>\n",
       "      <td>...</td>\n",
       "      <td>...</td>\n",
       "      <td>...</td>\n",
       "      <td>...</td>\n",
       "      <td>...</td>\n",
       "      <td>...</td>\n",
       "      <td>...</td>\n",
       "      <td>...</td>\n",
       "    </tr>\n",
       "    <tr>\n",
       "      <th>108162</th>\n",
       "      <td>NaN</td>\n",
       "      <td>NaN</td>\n",
       "      <td>99715XXXXX</td>\n",
       "      <td>120</td>\n",
       "      <td>1/21/2022</td>\n",
       "      <td>10.0</td>\n",
       "      <td>10_11</td>\n",
       "      <td>0:00:00</td>\n",
       "      <td>0.0</td>\n",
       "      <td>abandon</td>\n",
       "      <td>NaN</td>\n",
       "      <td>YES</td>\n",
       "      <td>0:00:14</td>\n",
       "    </tr>\n",
       "    <tr>\n",
       "      <th>108395</th>\n",
       "      <td>NaN</td>\n",
       "      <td>NaN</td>\n",
       "      <td>90004XXXXX</td>\n",
       "      <td>120</td>\n",
       "      <td>1/21/2022</td>\n",
       "      <td>10.0</td>\n",
       "      <td>10_11</td>\n",
       "      <td>0:00:00</td>\n",
       "      <td>0.0</td>\n",
       "      <td>abandon</td>\n",
       "      <td>NaN</td>\n",
       "      <td>YES</td>\n",
       "      <td>0:00:20</td>\n",
       "    </tr>\n",
       "    <tr>\n",
       "      <th>108513</th>\n",
       "      <td>NaN</td>\n",
       "      <td>NaN</td>\n",
       "      <td>84090XXXXX</td>\n",
       "      <td>120</td>\n",
       "      <td>1/21/2022</td>\n",
       "      <td>11.0</td>\n",
       "      <td>11_12</td>\n",
       "      <td>0:00:00</td>\n",
       "      <td>0.0</td>\n",
       "      <td>abandon</td>\n",
       "      <td>NaN</td>\n",
       "      <td>YES</td>\n",
       "      <td>0:00:15</td>\n",
       "    </tr>\n",
       "    <tr>\n",
       "      <th>108714</th>\n",
       "      <td>NaN</td>\n",
       "      <td>NaN</td>\n",
       "      <td>90099XXXXX</td>\n",
       "      <td>120</td>\n",
       "      <td>1/21/2022</td>\n",
       "      <td>11.0</td>\n",
       "      <td>11_12</td>\n",
       "      <td>0:00:00</td>\n",
       "      <td>0.0</td>\n",
       "      <td>abandon</td>\n",
       "      <td>NaN</td>\n",
       "      <td>YES</td>\n",
       "      <td>0:00:14</td>\n",
       "    </tr>\n",
       "    <tr>\n",
       "      <th>114917</th>\n",
       "      <td>NaN</td>\n",
       "      <td>NaN</td>\n",
       "      <td>87621XXXXX</td>\n",
       "      <td>120</td>\n",
       "      <td>1/23/2022</td>\n",
       "      <td>9.0</td>\n",
       "      <td>9_10</td>\n",
       "      <td>0:00:00</td>\n",
       "      <td>0.0</td>\n",
       "      <td>abandon</td>\n",
       "      <td>NaN</td>\n",
       "      <td>YES</td>\n",
       "      <td>0:00:14</td>\n",
       "    </tr>\n",
       "  </tbody>\n",
       "</table>\n",
       "<p>941 rows × 13 columns</p>\n",
       "</div>"
      ],
      "text/plain": [
       "       Agent_Name  Agent_ID Customer_Phone_No  Queue_Time(Secs) Date_&_Time  \\\n",
       "42            NaN       NaN        87782XXXXX                16    1/1/2022   \n",
       "312           NaN       NaN        96336XXXXX               120    1/1/2022   \n",
       "4397          NaN       NaN        78499XXXXX               120    1/1/2022   \n",
       "4436          NaN       NaN        93589XXXXX               120    1/1/2022   \n",
       "4507          NaN       NaN        91779XXXXX               120    1/1/2022   \n",
       "...           ...       ...               ...               ...         ...   \n",
       "108162        NaN       NaN        99715XXXXX               120   1/21/2022   \n",
       "108395        NaN       NaN        90004XXXXX               120   1/21/2022   \n",
       "108513        NaN       NaN        84090XXXXX               120   1/21/2022   \n",
       "108714        NaN       NaN        90099XXXXX               120   1/21/2022   \n",
       "114917        NaN       NaN        87621XXXXX               120   1/23/2022   \n",
       "\n",
       "        Time Time_Bucket Duration(hh:mm:ss)  Call_Seconds (s) Call_Status  \\\n",
       "42       9.0        9_10            0:00:00               0.0     abandon   \n",
       "312      9.0        9_10            0:00:00               0.0     abandon   \n",
       "4397    20.0       20_21            0:00:00               0.0     abandon   \n",
       "4436    20.0       20_21            0:00:00               0.0     abandon   \n",
       "4507    20.0       20_21            0:00:00               0.0     abandon   \n",
       "...      ...         ...                ...               ...         ...   \n",
       "108162  10.0       10_11            0:00:00               0.0     abandon   \n",
       "108395  10.0       10_11            0:00:00               0.0     abandon   \n",
       "108513  11.0       11_12            0:00:00               0.0     abandon   \n",
       "108714  11.0       11_12            0:00:00               0.0     abandon   \n",
       "114917   9.0        9_10            0:00:00               0.0     abandon   \n",
       "\n",
       "       Wrapped _By Ringing IVR _Duration  \n",
       "42             NaN     YES       0:00:16  \n",
       "312            NaN     YES       0:00:14  \n",
       "4397           NaN     YES       0:00:17  \n",
       "4436           NaN     YES       0:00:14  \n",
       "4507           NaN     YES       0:00:14  \n",
       "...            ...     ...           ...  \n",
       "108162         NaN     YES       0:00:14  \n",
       "108395         NaN     YES       0:00:20  \n",
       "108513         NaN     YES       0:00:15  \n",
       "108714         NaN     YES       0:00:14  \n",
       "114917         NaN     YES       0:00:14  \n",
       "\n",
       "[941 rows x 13 columns]"
      ]
     },
     "execution_count": 5,
     "metadata": {},
     "output_type": "execute_result"
    }
   ],
   "source": [
    "df[df.duplicated()==True]"
   ]
  },
  {
   "cell_type": "code",
   "execution_count": 6,
   "id": "ac7b1728",
   "metadata": {},
   "outputs": [],
   "source": [
    "df.drop_duplicates(inplace=True)"
   ]
  },
  {
   "cell_type": "code",
   "execution_count": 7,
   "id": "044328f2",
   "metadata": {},
   "outputs": [
    {
     "data": {
      "text/html": [
       "<div>\n",
       "<style scoped>\n",
       "    .dataframe tbody tr th:only-of-type {\n",
       "        vertical-align: middle;\n",
       "    }\n",
       "\n",
       "    .dataframe tbody tr th {\n",
       "        vertical-align: top;\n",
       "    }\n",
       "\n",
       "    .dataframe thead th {\n",
       "        text-align: right;\n",
       "    }\n",
       "</style>\n",
       "<table border=\"1\" class=\"dataframe\">\n",
       "  <thead>\n",
       "    <tr style=\"text-align: right;\">\n",
       "      <th></th>\n",
       "      <th>Agent_Name</th>\n",
       "      <th>Agent_ID</th>\n",
       "      <th>Customer_Phone_No</th>\n",
       "      <th>Queue_Time(Secs)</th>\n",
       "      <th>Date_&amp;_Time</th>\n",
       "      <th>Time</th>\n",
       "      <th>Time_Bucket</th>\n",
       "      <th>Duration(hh:mm:ss)</th>\n",
       "      <th>Call_Seconds (s)</th>\n",
       "      <th>Call_Status</th>\n",
       "      <th>Wrapped _By</th>\n",
       "      <th>Ringing</th>\n",
       "      <th>IVR _Duration</th>\n",
       "    </tr>\n",
       "  </thead>\n",
       "  <tbody>\n",
       "    <tr>\n",
       "      <th>117987</th>\n",
       "      <td>Executives 58</td>\n",
       "      <td>1000058.0</td>\n",
       "      <td>83800XXXXX</td>\n",
       "      <td>5</td>\n",
       "      <td>1/23/2022</td>\n",
       "      <td>20.0</td>\n",
       "      <td>20_21</td>\n",
       "      <td>0:01:22</td>\n",
       "      <td>82.0</td>\n",
       "      <td>answered</td>\n",
       "      <td>Agent</td>\n",
       "      <td>YES</td>\n",
       "      <td>0:00:14</td>\n",
       "    </tr>\n",
       "  </tbody>\n",
       "</table>\n",
       "</div>"
      ],
      "text/plain": [
       "           Agent_Name   Agent_ID Customer_Phone_No  Queue_Time(Secs)  \\\n",
       "117987  Executives 58  1000058.0        83800XXXXX                 5   \n",
       "\n",
       "       Date_&_Time  Time Time_Bucket Duration(hh:mm:ss)  Call_Seconds (s)  \\\n",
       "117987   1/23/2022  20.0       20_21            0:01:22              82.0   \n",
       "\n",
       "       Call_Status Wrapped _By Ringing IVR _Duration  \n",
       "117987    answered       Agent     YES       0:00:14  "
      ]
     },
     "execution_count": 7,
     "metadata": {},
     "output_type": "execute_result"
    }
   ],
   "source": [
    "df.tail(1)"
   ]
  },
  {
   "cell_type": "markdown",
   "id": "28cb29b0",
   "metadata": {},
   "source": [
    "null % in each column"
   ]
  },
  {
   "cell_type": "code",
   "execution_count": 8,
   "id": "450ff2c8",
   "metadata": {},
   "outputs": [
    {
     "data": {
      "text/plain": [
       "Wrapped _By           40.10\n",
       "Agent_Name            28.41\n",
       "Agent_ID              28.41\n",
       "Customer_Phone_No      0.00\n",
       "Queue_Time(Secs)       0.00\n",
       "Date_&_Time            0.00\n",
       "Time                   0.00\n",
       "Time_Bucket            0.00\n",
       "Duration(hh:mm:ss)     0.00\n",
       "Call_Seconds (s)       0.00\n",
       "Call_Status            0.00\n",
       "Ringing                0.00\n",
       "IVR _Duration          0.00\n",
       "dtype: float64"
      ]
     },
     "execution_count": 8,
     "metadata": {},
     "output_type": "execute_result"
    }
   ],
   "source": [
    "round(df.isna().sum().sort_values(ascending=False)/len(df)*100,2)"
   ]
  },
  {
   "cell_type": "code",
   "execution_count": 9,
   "id": "60a2df1d",
   "metadata": {},
   "outputs": [
    {
     "data": {
      "text/plain": [
       "Agent          60396\n",
       "AutoWrapped     9715\n",
       "Name: Wrapped _By, dtype: int64"
      ]
     },
     "execution_count": 9,
     "metadata": {},
     "output_type": "execute_result"
    }
   ],
   "source": [
    "df[\"Wrapped _By\"].value_counts()"
   ]
  },
  {
   "cell_type": "code",
   "execution_count": 10,
   "id": "5598ec7e",
   "metadata": {},
   "outputs": [
    {
     "data": {
      "text/plain": [
       "answered    70.44\n",
       "abandon     28.59\n",
       "transfer     0.97\n",
       "Name: Call_Status, dtype: float64"
      ]
     },
     "execution_count": 10,
     "metadata": {},
     "output_type": "execute_result"
    }
   ],
   "source": [
    "round(df[\"Call_Status\"].value_counts()/len(df)*100,2)"
   ]
  },
  {
   "cell_type": "code",
   "execution_count": 11,
   "id": "6eee57a7",
   "metadata": {},
   "outputs": [
    {
     "data": {
      "text/html": [
       "<div>\n",
       "<style scoped>\n",
       "    .dataframe tbody tr th:only-of-type {\n",
       "        vertical-align: middle;\n",
       "    }\n",
       "\n",
       "    .dataframe tbody tr th {\n",
       "        vertical-align: top;\n",
       "    }\n",
       "\n",
       "    .dataframe thead th {\n",
       "        text-align: right;\n",
       "    }\n",
       "</style>\n",
       "<table border=\"1\" class=\"dataframe\">\n",
       "  <thead>\n",
       "    <tr style=\"text-align: right;\">\n",
       "      <th></th>\n",
       "      <th>Agent_Name</th>\n",
       "      <th>Agent_ID</th>\n",
       "      <th>Customer_Phone_No</th>\n",
       "      <th>Queue_Time(Secs)</th>\n",
       "      <th>Date_&amp;_Time</th>\n",
       "      <th>Time</th>\n",
       "      <th>Time_Bucket</th>\n",
       "      <th>Duration(hh:mm:ss)</th>\n",
       "      <th>Call_Seconds (s)</th>\n",
       "      <th>Call_Status</th>\n",
       "      <th>Wrapped _By</th>\n",
       "      <th>Ringing</th>\n",
       "      <th>IVR _Duration</th>\n",
       "    </tr>\n",
       "  </thead>\n",
       "  <tbody>\n",
       "    <tr>\n",
       "      <th>5</th>\n",
       "      <td>NaN</td>\n",
       "      <td>NaN</td>\n",
       "      <td>96424XXXXX</td>\n",
       "      <td>13</td>\n",
       "      <td>1/1/2022</td>\n",
       "      <td>9.0</td>\n",
       "      <td>9_10</td>\n",
       "      <td>0:00:00</td>\n",
       "      <td>0.0</td>\n",
       "      <td>abandon</td>\n",
       "      <td>NaN</td>\n",
       "      <td>YES</td>\n",
       "      <td>0:00:16</td>\n",
       "    </tr>\n",
       "    <tr>\n",
       "      <th>7</th>\n",
       "      <td>NaN</td>\n",
       "      <td>NaN</td>\n",
       "      <td>96392XXXXX</td>\n",
       "      <td>60</td>\n",
       "      <td>1/1/2022</td>\n",
       "      <td>9.0</td>\n",
       "      <td>9_10</td>\n",
       "      <td>0:00:00</td>\n",
       "      <td>0.0</td>\n",
       "      <td>abandon</td>\n",
       "      <td>NaN</td>\n",
       "      <td>YES</td>\n",
       "      <td>0:00:17</td>\n",
       "    </tr>\n",
       "    <tr>\n",
       "      <th>12</th>\n",
       "      <td>NaN</td>\n",
       "      <td>NaN</td>\n",
       "      <td>97232XXXXX</td>\n",
       "      <td>120</td>\n",
       "      <td>1/1/2022</td>\n",
       "      <td>9.0</td>\n",
       "      <td>9_10</td>\n",
       "      <td>0:00:00</td>\n",
       "      <td>0.0</td>\n",
       "      <td>abandon</td>\n",
       "      <td>NaN</td>\n",
       "      <td>YES</td>\n",
       "      <td>0:00:40</td>\n",
       "    </tr>\n",
       "    <tr>\n",
       "      <th>15</th>\n",
       "      <td>NaN</td>\n",
       "      <td>NaN</td>\n",
       "      <td>77082XXXXX</td>\n",
       "      <td>16</td>\n",
       "      <td>1/1/2022</td>\n",
       "      <td>9.0</td>\n",
       "      <td>9_10</td>\n",
       "      <td>0:00:00</td>\n",
       "      <td>0.0</td>\n",
       "      <td>abandon</td>\n",
       "      <td>NaN</td>\n",
       "      <td>YES</td>\n",
       "      <td>0:00:18</td>\n",
       "    </tr>\n",
       "    <tr>\n",
       "      <th>16</th>\n",
       "      <td>NaN</td>\n",
       "      <td>NaN</td>\n",
       "      <td>95255XXXXX</td>\n",
       "      <td>44</td>\n",
       "      <td>1/1/2022</td>\n",
       "      <td>9.0</td>\n",
       "      <td>9_10</td>\n",
       "      <td>0:00:00</td>\n",
       "      <td>0.0</td>\n",
       "      <td>abandon</td>\n",
       "      <td>NaN</td>\n",
       "      <td>YES</td>\n",
       "      <td>0:00:17</td>\n",
       "    </tr>\n",
       "    <tr>\n",
       "      <th>...</th>\n",
       "      <td>...</td>\n",
       "      <td>...</td>\n",
       "      <td>...</td>\n",
       "      <td>...</td>\n",
       "      <td>...</td>\n",
       "      <td>...</td>\n",
       "      <td>...</td>\n",
       "      <td>...</td>\n",
       "      <td>...</td>\n",
       "      <td>...</td>\n",
       "      <td>...</td>\n",
       "      <td>...</td>\n",
       "      <td>...</td>\n",
       "    </tr>\n",
       "    <tr>\n",
       "      <th>117932</th>\n",
       "      <td>NaN</td>\n",
       "      <td>NaN</td>\n",
       "      <td>79813XXXXX</td>\n",
       "      <td>39</td>\n",
       "      <td>1/23/2022</td>\n",
       "      <td>20.0</td>\n",
       "      <td>20_21</td>\n",
       "      <td>0:00:00</td>\n",
       "      <td>0.0</td>\n",
       "      <td>abandon</td>\n",
       "      <td>NaN</td>\n",
       "      <td>YES</td>\n",
       "      <td>0:00:19</td>\n",
       "    </tr>\n",
       "    <tr>\n",
       "      <th>117940</th>\n",
       "      <td>NaN</td>\n",
       "      <td>NaN</td>\n",
       "      <td>98296XXXXX</td>\n",
       "      <td>5</td>\n",
       "      <td>1/23/2022</td>\n",
       "      <td>20.0</td>\n",
       "      <td>20_21</td>\n",
       "      <td>0:00:00</td>\n",
       "      <td>0.0</td>\n",
       "      <td>abandon</td>\n",
       "      <td>NaN</td>\n",
       "      <td>YES</td>\n",
       "      <td>0:00:22</td>\n",
       "    </tr>\n",
       "    <tr>\n",
       "      <th>117955</th>\n",
       "      <td>NaN</td>\n",
       "      <td>NaN</td>\n",
       "      <td>70745XXXXX</td>\n",
       "      <td>3</td>\n",
       "      <td>1/23/2022</td>\n",
       "      <td>20.0</td>\n",
       "      <td>20_21</td>\n",
       "      <td>0:00:00</td>\n",
       "      <td>0.0</td>\n",
       "      <td>abandon</td>\n",
       "      <td>NaN</td>\n",
       "      <td>YES</td>\n",
       "      <td>0:00:42</td>\n",
       "    </tr>\n",
       "    <tr>\n",
       "      <th>117960</th>\n",
       "      <td>NaN</td>\n",
       "      <td>NaN</td>\n",
       "      <td>89292XXXXX</td>\n",
       "      <td>3</td>\n",
       "      <td>1/23/2022</td>\n",
       "      <td>20.0</td>\n",
       "      <td>20_21</td>\n",
       "      <td>0:00:00</td>\n",
       "      <td>0.0</td>\n",
       "      <td>abandon</td>\n",
       "      <td>NaN</td>\n",
       "      <td>YES</td>\n",
       "      <td>0:00:19</td>\n",
       "    </tr>\n",
       "    <tr>\n",
       "      <th>117974</th>\n",
       "      <td>NaN</td>\n",
       "      <td>NaN</td>\n",
       "      <td>84640XXXXX</td>\n",
       "      <td>8</td>\n",
       "      <td>1/23/2022</td>\n",
       "      <td>20.0</td>\n",
       "      <td>20_21</td>\n",
       "      <td>0:00:00</td>\n",
       "      <td>0.0</td>\n",
       "      <td>abandon</td>\n",
       "      <td>NaN</td>\n",
       "      <td>YES</td>\n",
       "      <td>0:00:44</td>\n",
       "    </tr>\n",
       "  </tbody>\n",
       "</table>\n",
       "<p>33462 rows × 13 columns</p>\n",
       "</div>"
      ],
      "text/plain": [
       "       Agent_Name  Agent_ID Customer_Phone_No  Queue_Time(Secs) Date_&_Time  \\\n",
       "5             NaN       NaN        96424XXXXX                13    1/1/2022   \n",
       "7             NaN       NaN        96392XXXXX                60    1/1/2022   \n",
       "12            NaN       NaN        97232XXXXX               120    1/1/2022   \n",
       "15            NaN       NaN        77082XXXXX                16    1/1/2022   \n",
       "16            NaN       NaN        95255XXXXX                44    1/1/2022   \n",
       "...           ...       ...               ...               ...         ...   \n",
       "117932        NaN       NaN        79813XXXXX                39   1/23/2022   \n",
       "117940        NaN       NaN        98296XXXXX                 5   1/23/2022   \n",
       "117955        NaN       NaN        70745XXXXX                 3   1/23/2022   \n",
       "117960        NaN       NaN        89292XXXXX                 3   1/23/2022   \n",
       "117974        NaN       NaN        84640XXXXX                 8   1/23/2022   \n",
       "\n",
       "        Time Time_Bucket Duration(hh:mm:ss)  Call_Seconds (s) Call_Status  \\\n",
       "5        9.0        9_10            0:00:00               0.0     abandon   \n",
       "7        9.0        9_10            0:00:00               0.0     abandon   \n",
       "12       9.0        9_10            0:00:00               0.0     abandon   \n",
       "15       9.0        9_10            0:00:00               0.0     abandon   \n",
       "16       9.0        9_10            0:00:00               0.0     abandon   \n",
       "...      ...         ...                ...               ...         ...   \n",
       "117932  20.0       20_21            0:00:00               0.0     abandon   \n",
       "117940  20.0       20_21            0:00:00               0.0     abandon   \n",
       "117955  20.0       20_21            0:00:00               0.0     abandon   \n",
       "117960  20.0       20_21            0:00:00               0.0     abandon   \n",
       "117974  20.0       20_21            0:00:00               0.0     abandon   \n",
       "\n",
       "       Wrapped _By Ringing IVR _Duration  \n",
       "5              NaN     YES       0:00:16  \n",
       "7              NaN     YES       0:00:17  \n",
       "12             NaN     YES       0:00:40  \n",
       "15             NaN     YES       0:00:18  \n",
       "16             NaN     YES       0:00:17  \n",
       "...            ...     ...           ...  \n",
       "117932         NaN     YES       0:00:19  \n",
       "117940         NaN     YES       0:00:22  \n",
       "117955         NaN     YES       0:00:42  \n",
       "117960         NaN     YES       0:00:19  \n",
       "117974         NaN     YES       0:00:44  \n",
       "\n",
       "[33462 rows x 13 columns]"
      ]
     },
     "execution_count": 11,
     "metadata": {},
     "output_type": "execute_result"
    }
   ],
   "source": [
    "df[df[\"Call_Status\"]==\"abandon\"]"
   ]
  },
  {
   "cell_type": "markdown",
   "id": "c86584bb",
   "metadata": {},
   "source": [
    "4.EDA and Question's Answer"
   ]
  },
  {
   "cell_type": "markdown",
   "id": "340db736",
   "metadata": {},
   "source": [
    "a.Calculate the average call time duration for all incoming calls received by agents (in each Time_Bucket)."
   ]
  },
  {
   "cell_type": "code",
   "execution_count": 12,
   "id": "7de9f29a",
   "metadata": {},
   "outputs": [
    {
     "data": {
      "text/plain": [
       "Time_Bucket\n",
       "10_11     99.151900\n",
       "11_12    118.255262\n",
       "12_13    145.761901\n",
       "13_14    150.530518\n",
       "14_15    147.696546\n",
       "15_16    170.231375\n",
       "16_17    181.501309\n",
       "17_18    179.808792\n",
       "18_19    174.396959\n",
       "19_20    145.008845\n",
       "20_21    106.920257\n",
       "9_10      94.090764\n",
       "Name: Call_Seconds (s), dtype: float64"
      ]
     },
     "execution_count": 12,
     "metadata": {},
     "output_type": "execute_result"
    }
   ],
   "source": [
    "df.groupby(['Time_Bucket'])[\"Call_Seconds (s)\"].mean()"
   ]
  },
  {
   "cell_type": "code",
   "execution_count": 13,
   "id": "ba16157a",
   "metadata": {},
   "outputs": [
    {
     "data": {
      "text/plain": [
       "142.77953565739418"
      ]
     },
     "execution_count": 13,
     "metadata": {},
     "output_type": "execute_result"
    }
   ],
   "source": [
    "df.groupby(['Time_Bucket'])[\"Call_Seconds (s)\"].mean().mean()"
   ]
  },
  {
   "cell_type": "code",
   "execution_count": 14,
   "id": "626431a8",
   "metadata": {},
   "outputs": [
    {
     "data": {
      "image/png": "[encoded data removed]",
      "text/plain": [
       "<Figure size 640x480 with 1 Axes>"
      ]
     },
     "metadata": {},
     "output_type": "display_data"
    }
   ],
   "source": [
    "plt.xlabel(\"Time_Bucket\")\n",
    "plt.ylabel(\"Call_Seconds (s)\")\n",
    "df.groupby(['Time_Bucket'])[\"Call_Seconds (s)\"].mean().plot(kind=\"bar\",colormap='Purples_r')\n",
    "plt.show()"
   ]
  },
  {
   "cell_type": "markdown",
   "id": "a54b4ace",
   "metadata": {},
   "source": [
    "b.Show the total volume/ number of calls coming in via charts/ graphs [Number of calls v/s Time]. You can select time in a bucket form (i.e. 1-2, 2-3, …..)"
   ]
  },
  {
   "cell_type": "code",
   "execution_count": 15,
   "id": "7601e654",
   "metadata": {},
   "outputs": [
    {
     "data": {
      "image/png": "[encoded data removed]",
      "text/plain": [
       "<Figure size 640x480 with 1 Axes>"
      ]
     },
     "metadata": {},
     "output_type": "display_data"
    }
   ],
   "source": [
    "plt.xlabel(\"Time_Bucket\")\n",
    "plt.ylabel(\"Number of calls\")\n",
    "df[\"Time_Bucket\"].value_counts().plot(kind=\"bar\",colormap='spring')\n",
    "plt.show()"
   ]
  },
  {
   "cell_type": "markdown",
   "id": "9a88e4ec",
   "metadata": {},
   "source": [
    "c.As you can see current abandon rate is approximately 30%. Propose a manpower plan required during each time bucket [between 9am to 9pm] to reduce the abandon rate to 10%. (i.e. You have to calculate minimum number of agents required in each time bucket so that at least 90 calls should be answered out of 100.) "
   ]
  },
  {
   "cell_type": "code",
   "execution_count": 16,
   "id": "476cedfa",
   "metadata": {},
   "outputs": [
    {
     "data": {
      "image/png": "[encoded data removed]",
      "text/plain": [
       "<Figure size 640x480 with 1 Axes>"
      ]
     },
     "metadata": {},
     "output_type": "display_data"
    }
   ],
   "source": [
    "plt.title(\"% of Call_Status\")\n",
    "pie=round(df[\"Call_Status\"].value_counts()/len(df)*100,2).plot(kind='pie',autopct='%.1f%%',startangle =270,explode=[0,0,0.1])\n",
    "plt.show()"
   ]
  },
  {
   "cell_type": "code",
   "execution_count": 17,
   "id": "28b9f6cd",
   "metadata": {},
   "outputs": [
    {
     "data": {
      "text/plain": [
       "<AxesSubplot:xlabel='Time_Bucket', ylabel='Number of Calls'>"
      ]
     },
     "execution_count": 17,
     "metadata": {},
     "output_type": "execute_result"
    },
    {
     "data": {
      "image/png": "[encoded data removed]",
      "text/plain": [
       "<Figure size 1000x500 with 1 Axes>"
      ]
     },
     "metadata": {},
     "output_type": "display_data"
    }
   ],
   "source": [
    "import seaborn as sns\n",
    "plt.figure(figsize=(10,5))\n",
    "plt.ylabel(\"Number of Calls\")\n",
    "sns.histplot(x=df[\"Time_Bucket\"],hue=df['Call_Status'],multiple=\"dodge\",palette='plasma_r')"
   ]
  },
  {
   "cell_type": "markdown",
   "id": "5902cb08",
   "metadata": {},
   "source": [
    "Assumption: An agent work for 6 days a week; On an average total unplanned leaves per agent is 4 days a month; An agent total working hrs is 9 Hrs out of which 1.5 Hrs goes into lunch and snacks in the office. On average an agent occupied for 60% of his total actual working Hrs (i.e 60% of 7.5 Hrs) on call with customers/ users. Total days in a month is 30 days."
   ]
  },
  {
   "cell_type": "raw",
   "id": "3f203bd6",
   "metadata": {},
   "source": [
    "Agent Work Hour : 9 Hrs\n",
    "Lunch Time : 1.5 Hrs\n",
    "Actual Working Hrs : 7.5 Hrs\n",
    "Agent on Call with Customers: 60% of 7.5Hrs=4.5Hrs\n",
    "Days agent work in a week : 6 \n",
    "Unplanned leaves in a month: 4"
   ]
  },
  {
   "cell_type": "markdown",
   "id": "44beea22",
   "metadata": {},
   "source": [
    "Calculation of Number of Agents required:"
   ]
  },
  {
   "cell_type": "code",
   "execution_count": 18,
   "id": "e42b1b0a",
   "metadata": {},
   "outputs": [
    {
     "data": {
      "text/plain": [
       "16463119.0"
      ]
     },
     "execution_count": 18,
     "metadata": {},
     "output_type": "execute_result"
    }
   ],
   "source": [
    "# sum of total Call_seconds (in sec) by agents in 23 days\n",
    "call_sec_total=df['Call_Seconds (s)'].sum()\n",
    "call_sec_total"
   ]
  },
  {
   "cell_type": "code",
   "execution_count": 19,
   "id": "f4e27b51",
   "metadata": {},
   "outputs": [
    {
     "data": {
      "text/plain": [
       "198.82993961352656"
      ]
     },
     "execution_count": 19,
     "metadata": {},
     "output_type": "execute_result"
    }
   ],
   "source": [
    "# average call_seconds(in hrs) in a day\n",
    "avg_call_time_per_day=call_sec_total/(60*60*23)\n",
    "avg_call_time_per_day"
   ]
  },
  {
   "cell_type": "code",
   "execution_count": 20,
   "id": "b85611f9",
   "metadata": {},
   "outputs": [
    {
     "data": {
      "text/plain": [
       "44"
      ]
     },
     "execution_count": 20,
     "metadata": {},
     "output_type": "execute_result"
    }
   ],
   "source": [
    "# number of agents working so that answered call are 70.4%\n",
    "num_agents_working=round(avg_call_time_per_day/4.5)\n",
    "num_agents_working"
   ]
  },
  {
   "cell_type": "code",
   "execution_count": 21,
   "id": "da1ce2c8",
   "metadata": {},
   "outputs": [
    {
     "data": {
      "text/plain": [
       "56"
      ]
     },
     "execution_count": 21,
     "metadata": {},
     "output_type": "execute_result"
    }
   ],
   "source": [
    "# number of agents required so that abondan rate is 10% or answered call is 90%\n",
    "num_agents_req=round((num_agents_working*90)/70.4)\n",
    "num_agents_req"
   ]
  },
  {
   "cell_type": "markdown",
   "id": "4e821220",
   "metadata": {},
   "source": [
    "Number of agents in each Time_Bucket"
   ]
  },
  {
   "cell_type": "code",
   "execution_count": 22,
   "id": "ae1a62b2",
   "metadata": {},
   "outputs": [
    {
     "data": {
      "text/plain": [
       "Time_Bucket\n",
       "10_11    11.0\n",
       "11_12    12.0\n",
       "12_13    11.0\n",
       "13_14    10.0\n",
       "14_15     9.0\n",
       "15_16     8.0\n",
       "16_17     8.0\n",
       "17_18     7.0\n",
       "18_19     6.0\n",
       "19_20     6.0\n",
       "20_21     5.0\n",
       "9_10      8.0\n",
       "Name: Call_Seconds (s), dtype: float64"
      ]
     },
     "execution_count": 22,
     "metadata": {},
     "output_type": "execute_result"
    }
   ],
   "source": [
    "prct_of_calls_time_bucket=round(df.groupby('Time_Bucket')['Call_Seconds (s)'].count()/len(df['Call_Seconds (s)'])*100)\n",
    "prct_of_calls_time_bucket"
   ]
  },
  {
   "cell_type": "code",
   "execution_count": 23,
   "id": "d9daf2da",
   "metadata": {},
   "outputs": [
    {
     "data": {
      "text/plain": [
       "Time_Bucket\n",
       "10_11    6\n",
       "11_12    7\n",
       "12_13    6\n",
       "13_14    6\n",
       "14_15    5\n",
       "15_16    4\n",
       "16_17    4\n",
       "17_18    4\n",
       "18_19    3\n",
       "19_20    3\n",
       "20_21    3\n",
       "9_10     4\n",
       "Name: Call_Seconds (s), dtype: int32"
      ]
     },
     "execution_count": 23,
     "metadata": {},
     "output_type": "execute_result"
    }
   ],
   "source": [
    "num_of_agents_time_bucket=round(prct_of_calls_time_bucket*56/100)\n",
    "num_of_agents_time_bucket.astype('int32')"
   ]
  },
  {
   "cell_type": "code",
   "execution_count": 24,
   "id": "ffb51d17",
   "metadata": {},
   "outputs": [
    {
     "data": {
      "text/plain": [
       "65"
      ]
     },
     "execution_count": 24,
     "metadata": {},
     "output_type": "execute_result"
    }
   ],
   "source": [
    "df['Agent_Name'].nunique()"
   ]
  },
  {
   "cell_type": "code",
   "execution_count": 25,
   "id": "34016bf7",
   "metadata": {},
   "outputs": [
    {
     "data": {
      "text/plain": [
       "55.0"
      ]
     },
     "execution_count": 25,
     "metadata": {},
     "output_type": "execute_result"
    }
   ],
   "source": [
    "num_of_agents_time_bucket.sum()"
   ]
  },
  {
   "cell_type": "markdown",
   "id": "704694bd",
   "metadata": {},
   "source": [
    "d.Let’s say customers also call this ABC insurance company in night but didn’t get answer as there are no agents to answer, this creates a bad customer experience for this Insurance company. Suppose every 100 calls that customer made during 9 Am to 9 Pm, customer also made 30 calls in night between interval [9 Pm to 9 Am] and distribution of those 30 calls are as follows:"
   ]
  },
  {
   "cell_type": "code",
   "execution_count": 26,
   "id": "404b844d",
   "metadata": {},
   "outputs": [
    {
     "data": {
      "text/plain": [
       "<matplotlib.image.AxesImage at 0x2a235c23e80>"
      ]
     },
     "execution_count": 26,
     "metadata": {},
     "output_type": "execute_result"
    },
    {
     "data": {
      "image/png": "[encoded data removed]",
      "text/plain": [
       "<Figure size 1300x100 with 1 Axes>"
      ]
     },
     "metadata": {},
     "output_type": "display_data"
    }
   ],
   "source": [
    "import matplotlib.image as mpimg\n",
    "# Read Images\n",
    "img = mpimg.imread('Analysis/ABC_project_asset.png')\n",
    "# Output Images\n",
    "plt.figure(figsize=(13,1))    \n",
    "plt.imshow(img)"
   ]
  },
  {
   "cell_type": "code",
   "execution_count": 27,
   "id": "3472ea63",
   "metadata": {},
   "outputs": [
    {
     "data": {
      "text/plain": [
       "(5089.0, 1527)"
      ]
     },
     "execution_count": 27,
     "metadata": {},
     "output_type": "execute_result"
    }
   ],
   "source": [
    "d=len(df)/23\n",
    "d,round((30*d)/100)"
   ]
  },
  {
   "cell_type": "raw",
   "id": "017ad001",
   "metadata": {},
   "source": [
    "Total numbers of calls daily(9am-9pm)= 5059\n",
    "Total numbers of calls per night(9pm-9am)= 1527\n"
   ]
  },
  {
   "cell_type": "code",
   "execution_count": 28,
   "id": "39a7cbef",
   "metadata": {},
   "outputs": [
    {
     "data": {
      "text/plain": [
       "60"
      ]
     },
     "execution_count": 28,
     "metadata": {},
     "output_type": "execute_result"
    }
   ],
   "source": [
    "# additonal_call_time(in hour) per night (when abondon % is approx 30%)\n",
    "additional_call_time_hrs=round(avg_call_time_per_day*30/100)\n",
    "additional_call_time_hrs"
   ]
  },
  {
   "cell_type": "code",
   "execution_count": 29,
   "id": "0bb7b74b",
   "metadata": {},
   "outputs": [
    {
     "data": {
      "text/plain": [
       "76.70454545454545"
      ]
     },
     "execution_count": 29,
     "metadata": {},
     "output_type": "execute_result"
    }
   ],
   "source": [
    "# additional_call_time(in hour) per night (when abondon % is 10% or answered call % is 90%)\n",
    "additional_call_time_hrs_req=additional_call_time_hrs*90/70.4\n",
    "additional_call_time_hrs_req"
   ]
  },
  {
   "cell_type": "code",
   "execution_count": 30,
   "id": "6378fd26",
   "metadata": {},
   "outputs": [
    {
     "data": {
      "text/plain": [
       "17"
      ]
     },
     "execution_count": 30,
     "metadata": {},
     "output_type": "execute_result"
    }
   ],
   "source": [
    "# number of agents required at night so that abondon % is 10%\n",
    "num_agents_req=round(additional_call_time_hrs_req/4.5)\n",
    "num_agents_req"
   ]
  },
  {
   "cell_type": "markdown",
   "id": "8115efc0",
   "metadata": {},
   "source": [
    "Creating DataFrame for time bucket night"
   ]
  },
  {
   "cell_type": "code",
   "execution_count": 31,
   "id": "6374f6e1",
   "metadata": {},
   "outputs": [
    {
     "data": {
      "text/html": [
       "<div>\n",
       "<style scoped>\n",
       "    .dataframe tbody tr th:only-of-type {\n",
       "        vertical-align: middle;\n",
       "    }\n",
       "\n",
       "    .dataframe tbody tr th {\n",
       "        vertical-align: top;\n",
       "    }\n",
       "\n",
       "    .dataframe thead th {\n",
       "        text-align: right;\n",
       "    }\n",
       "</style>\n",
       "<table border=\"1\" class=\"dataframe\">\n",
       "  <thead>\n",
       "    <tr style=\"text-align: right;\">\n",
       "      <th></th>\n",
       "      <th>Time_Bucket</th>\n",
       "      <th>Number_of_calls</th>\n",
       "    </tr>\n",
       "  </thead>\n",
       "  <tbody>\n",
       "    <tr>\n",
       "      <th>0</th>\n",
       "      <td>9pm-10pm</td>\n",
       "      <td>3</td>\n",
       "    </tr>\n",
       "    <tr>\n",
       "      <th>1</th>\n",
       "      <td>10pm-11pm</td>\n",
       "      <td>3</td>\n",
       "    </tr>\n",
       "    <tr>\n",
       "      <th>2</th>\n",
       "      <td>11pm-12am</td>\n",
       "      <td>2</td>\n",
       "    </tr>\n",
       "    <tr>\n",
       "      <th>3</th>\n",
       "      <td>12am-1am</td>\n",
       "      <td>2</td>\n",
       "    </tr>\n",
       "    <tr>\n",
       "      <th>4</th>\n",
       "      <td>1am-2am</td>\n",
       "      <td>1</td>\n",
       "    </tr>\n",
       "    <tr>\n",
       "      <th>5</th>\n",
       "      <td>2am-3am</td>\n",
       "      <td>1</td>\n",
       "    </tr>\n",
       "    <tr>\n",
       "      <th>6</th>\n",
       "      <td>3am-4am</td>\n",
       "      <td>1</td>\n",
       "    </tr>\n",
       "    <tr>\n",
       "      <th>7</th>\n",
       "      <td>4am-5am</td>\n",
       "      <td>1</td>\n",
       "    </tr>\n",
       "    <tr>\n",
       "      <th>8</th>\n",
       "      <td>5am-6am</td>\n",
       "      <td>3</td>\n",
       "    </tr>\n",
       "    <tr>\n",
       "      <th>9</th>\n",
       "      <td>6am-7am</td>\n",
       "      <td>4</td>\n",
       "    </tr>\n",
       "    <tr>\n",
       "      <th>10</th>\n",
       "      <td>7am-8am</td>\n",
       "      <td>4</td>\n",
       "    </tr>\n",
       "    <tr>\n",
       "      <th>11</th>\n",
       "      <td>8am-9am</td>\n",
       "      <td>5</td>\n",
       "    </tr>\n",
       "  </tbody>\n",
       "</table>\n",
       "</div>"
      ],
      "text/plain": [
       "   Time_Bucket  Number_of_calls\n",
       "0     9pm-10pm                3\n",
       "1    10pm-11pm                3\n",
       "2    11pm-12am                2\n",
       "3     12am-1am                2\n",
       "4      1am-2am                1\n",
       "5      2am-3am                1\n",
       "6      3am-4am                1\n",
       "7      4am-5am                1\n",
       "8      5am-6am                3\n",
       "9      6am-7am                4\n",
       "10     7am-8am                4\n",
       "11     8am-9am                5"
      ]
     },
     "execution_count": 31,
     "metadata": {},
     "output_type": "execute_result"
    }
   ],
   "source": [
    "dict={\"Time_Bucket\":[\"9pm-10pm\",\"10pm-11pm\",\"11pm-12am\",\"12am-1am\",\"1am-2am\",\n",
    "                     \"2am-3am\",\"3am-4am\",\"4am-5am\",\"5am-6am\",\"6am-7am\",\n",
    "                     \"7am-8am\",\"8am-9am\"],\n",
    "     \"Number_of_calls\":[3,3,2,2,1,1,1,1,3,4,4,5]}\n",
    "df_tb_night=pd.DataFrame(dict)\n",
    "df_tb_night"
   ]
  },
  {
   "cell_type": "code",
   "execution_count": 32,
   "id": "f97ea4c2",
   "metadata": {},
   "outputs": [],
   "source": [
    "df_tb_night[\"percentage_of_calls\"]=(df_tb_night[\"Number_of_calls\"]/30)*100"
   ]
  },
  {
   "cell_type": "code",
   "execution_count": 33,
   "id": "90ee20f7",
   "metadata": {},
   "outputs": [],
   "source": [
    "# number of agents working in each time bucket\n",
    "df_tb_night[\"num_of_agents_req\"]=round((df_tb_night[\"percentage_of_calls\"])*num_agents_req/100)"
   ]
  },
  {
   "cell_type": "code",
   "execution_count": 34,
   "id": "1e9762fd",
   "metadata": {},
   "outputs": [
    {
     "data": {
      "text/html": [
       "<div>\n",
       "<style scoped>\n",
       "    .dataframe tbody tr th:only-of-type {\n",
       "        vertical-align: middle;\n",
       "    }\n",
       "\n",
       "    .dataframe tbody tr th {\n",
       "        vertical-align: top;\n",
       "    }\n",
       "\n",
       "    .dataframe thead th {\n",
       "        text-align: right;\n",
       "    }\n",
       "</style>\n",
       "<table border=\"1\" class=\"dataframe\">\n",
       "  <thead>\n",
       "    <tr style=\"text-align: right;\">\n",
       "      <th></th>\n",
       "      <th>Time_Bucket</th>\n",
       "      <th>Number_of_calls</th>\n",
       "      <th>percentage_of_calls</th>\n",
       "      <th>num_of_agents_req</th>\n",
       "    </tr>\n",
       "  </thead>\n",
       "  <tbody>\n",
       "    <tr>\n",
       "      <th>0</th>\n",
       "      <td>9pm-10pm</td>\n",
       "      <td>3</td>\n",
       "      <td>10.000000</td>\n",
       "      <td>2.0</td>\n",
       "    </tr>\n",
       "    <tr>\n",
       "      <th>1</th>\n",
       "      <td>10pm-11pm</td>\n",
       "      <td>3</td>\n",
       "      <td>10.000000</td>\n",
       "      <td>2.0</td>\n",
       "    </tr>\n",
       "    <tr>\n",
       "      <th>2</th>\n",
       "      <td>11pm-12am</td>\n",
       "      <td>2</td>\n",
       "      <td>6.666667</td>\n",
       "      <td>1.0</td>\n",
       "    </tr>\n",
       "    <tr>\n",
       "      <th>3</th>\n",
       "      <td>12am-1am</td>\n",
       "      <td>2</td>\n",
       "      <td>6.666667</td>\n",
       "      <td>1.0</td>\n",
       "    </tr>\n",
       "    <tr>\n",
       "      <th>4</th>\n",
       "      <td>1am-2am</td>\n",
       "      <td>1</td>\n",
       "      <td>3.333333</td>\n",
       "      <td>1.0</td>\n",
       "    </tr>\n",
       "    <tr>\n",
       "      <th>5</th>\n",
       "      <td>2am-3am</td>\n",
       "      <td>1</td>\n",
       "      <td>3.333333</td>\n",
       "      <td>1.0</td>\n",
       "    </tr>\n",
       "    <tr>\n",
       "      <th>6</th>\n",
       "      <td>3am-4am</td>\n",
       "      <td>1</td>\n",
       "      <td>3.333333</td>\n",
       "      <td>1.0</td>\n",
       "    </tr>\n",
       "    <tr>\n",
       "      <th>7</th>\n",
       "      <td>4am-5am</td>\n",
       "      <td>1</td>\n",
       "      <td>3.333333</td>\n",
       "      <td>1.0</td>\n",
       "    </tr>\n",
       "    <tr>\n",
       "      <th>8</th>\n",
       "      <td>5am-6am</td>\n",
       "      <td>3</td>\n",
       "      <td>10.000000</td>\n",
       "      <td>2.0</td>\n",
       "    </tr>\n",
       "    <tr>\n",
       "      <th>9</th>\n",
       "      <td>6am-7am</td>\n",
       "      <td>4</td>\n",
       "      <td>13.333333</td>\n",
       "      <td>2.0</td>\n",
       "    </tr>\n",
       "    <tr>\n",
       "      <th>10</th>\n",
       "      <td>7am-8am</td>\n",
       "      <td>4</td>\n",
       "      <td>13.333333</td>\n",
       "      <td>2.0</td>\n",
       "    </tr>\n",
       "    <tr>\n",
       "      <th>11</th>\n",
       "      <td>8am-9am</td>\n",
       "      <td>5</td>\n",
       "      <td>16.666667</td>\n",
       "      <td>3.0</td>\n",
       "    </tr>\n",
       "  </tbody>\n",
       "</table>\n",
       "</div>"
      ],
      "text/plain": [
       "   Time_Bucket  Number_of_calls  percentage_of_calls  num_of_agents_req\n",
       "0     9pm-10pm                3            10.000000                2.0\n",
       "1    10pm-11pm                3            10.000000                2.0\n",
       "2    11pm-12am                2             6.666667                1.0\n",
       "3     12am-1am                2             6.666667                1.0\n",
       "4      1am-2am                1             3.333333                1.0\n",
       "5      2am-3am                1             3.333333                1.0\n",
       "6      3am-4am                1             3.333333                1.0\n",
       "7      4am-5am                1             3.333333                1.0\n",
       "8      5am-6am                3            10.000000                2.0\n",
       "9      6am-7am                4            13.333333                2.0\n",
       "10     7am-8am                4            13.333333                2.0\n",
       "11     8am-9am                5            16.666667                3.0"
      ]
     },
     "execution_count": 34,
     "metadata": {},
     "output_type": "execute_result"
    }
   ],
   "source": [
    "df_tb_night"
   ]
  },
  {
   "cell_type": "code",
   "execution_count": 35,
   "id": "754b5198",
   "metadata": {},
   "outputs": [],
   "source": [
    "df_tb_night['num_of_agents_req']=df_tb_night['num_of_agents_req'].astype('int32')"
   ]
  },
  {
   "cell_type": "code",
   "execution_count": 36,
   "id": "bb25fead",
   "metadata": {},
   "outputs": [
    {
     "data": {
      "text/html": [
       "<div>\n",
       "<style scoped>\n",
       "    .dataframe tbody tr th:only-of-type {\n",
       "        vertical-align: middle;\n",
       "    }\n",
       "\n",
       "    .dataframe tbody tr th {\n",
       "        vertical-align: top;\n",
       "    }\n",
       "\n",
       "    .dataframe thead th {\n",
       "        text-align: right;\n",
       "    }\n",
       "</style>\n",
       "<table border=\"1\" class=\"dataframe\">\n",
       "  <thead>\n",
       "    <tr style=\"text-align: right;\">\n",
       "      <th></th>\n",
       "      <th>Time_Bucket</th>\n",
       "      <th>num_of_agents_req</th>\n",
       "    </tr>\n",
       "  </thead>\n",
       "  <tbody>\n",
       "    <tr>\n",
       "      <th>0</th>\n",
       "      <td>9pm-10pm</td>\n",
       "      <td>2</td>\n",
       "    </tr>\n",
       "    <tr>\n",
       "      <th>1</th>\n",
       "      <td>10pm-11pm</td>\n",
       "      <td>2</td>\n",
       "    </tr>\n",
       "    <tr>\n",
       "      <th>2</th>\n",
       "      <td>11pm-12am</td>\n",
       "      <td>1</td>\n",
       "    </tr>\n",
       "    <tr>\n",
       "      <th>3</th>\n",
       "      <td>12am-1am</td>\n",
       "      <td>1</td>\n",
       "    </tr>\n",
       "    <tr>\n",
       "      <th>4</th>\n",
       "      <td>1am-2am</td>\n",
       "      <td>1</td>\n",
       "    </tr>\n",
       "    <tr>\n",
       "      <th>5</th>\n",
       "      <td>2am-3am</td>\n",
       "      <td>1</td>\n",
       "    </tr>\n",
       "    <tr>\n",
       "      <th>6</th>\n",
       "      <td>3am-4am</td>\n",
       "      <td>1</td>\n",
       "    </tr>\n",
       "    <tr>\n",
       "      <th>7</th>\n",
       "      <td>4am-5am</td>\n",
       "      <td>1</td>\n",
       "    </tr>\n",
       "    <tr>\n",
       "      <th>8</th>\n",
       "      <td>5am-6am</td>\n",
       "      <td>2</td>\n",
       "    </tr>\n",
       "    <tr>\n",
       "      <th>9</th>\n",
       "      <td>6am-7am</td>\n",
       "      <td>2</td>\n",
       "    </tr>\n",
       "    <tr>\n",
       "      <th>10</th>\n",
       "      <td>7am-8am</td>\n",
       "      <td>2</td>\n",
       "    </tr>\n",
       "    <tr>\n",
       "      <th>11</th>\n",
       "      <td>8am-9am</td>\n",
       "      <td>3</td>\n",
       "    </tr>\n",
       "  </tbody>\n",
       "</table>\n",
       "</div>"
      ],
      "text/plain": [
       "   Time_Bucket  num_of_agents_req\n",
       "0     9pm-10pm                  2\n",
       "1    10pm-11pm                  2\n",
       "2    11pm-12am                  1\n",
       "3     12am-1am                  1\n",
       "4      1am-2am                  1\n",
       "5      2am-3am                  1\n",
       "6      3am-4am                  1\n",
       "7      4am-5am                  1\n",
       "8      5am-6am                  2\n",
       "9      6am-7am                  2\n",
       "10     7am-8am                  2\n",
       "11     8am-9am                  3"
      ]
     },
     "execution_count": 36,
     "metadata": {},
     "output_type": "execute_result"
    }
   ],
   "source": [
    "df_tb_night[['Time_Bucket','num_of_agents_req']]"
   ]
  },
  {
   "cell_type": "code",
   "execution_count": null,
   "id": "e64a5dfa",
   "metadata": {},
   "outputs": [],
   "source": []
  }
 ],
 "metadata": {
  "kernelspec": {
   "display_name": "Python 3 (ipykernel)",
   "language": "python",
   "name": "python3"
  },
  "language_info": {
   "codemirror_mode": {
    "name": "ipython",
    "version": 3
   },
   "file_extension": ".py",
   "mimetype": "text/x-python",
   "name": "python",
   "nbconvert_exporter": "python",
   "pygments_lexer": "ipython3",
   "version": "3.9.13"
  }
 },
 "nbformat": 4,
 "nbformat_minor": 5
}
